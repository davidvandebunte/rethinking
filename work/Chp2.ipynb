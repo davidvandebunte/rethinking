{
 "cells": [
  {
   "cell_type": "markdown",
   "id": "767e6b7a",
   "metadata": {},
   "source": [
    "# 2.4.3 Grid Approximation"
   ]
  },
  {
   "cell_type": "code",
   "execution_count": null,
   "id": "2cd28890",
   "metadata": {},
   "outputs": [],
   "source": [
    "# define grid\n",
    "p_grid <- seq(from=0, to=1, length.out=20)\n",
    "p_grid"
   ]
  },
  {
   "cell_type": "code",
   "execution_count": null,
   "id": "1d38e72c",
   "metadata": {},
   "outputs": [],
   "source": [
    "# define prior\n",
    "prior <- rep(1, 20)\n",
    "prior"
   ]
  },
  {
   "cell_type": "code",
   "execution_count": null,
   "id": "3b511280",
   "metadata": {},
   "outputs": [],
   "source": [
    "# compute likelihood at each value in grid\n",
    "likelihood <- dbinom(6, size=9, prob=p_grid)\n",
    "plot(p_grid, likelihood, type=\"b\", xlab=\"probability of water\", ylab=\"likelihood\")"
   ]
  },
  {
   "cell_type": "code",
   "execution_count": null,
   "id": "f485a438",
   "metadata": {},
   "outputs": [],
   "source": [
    "# compute product of likelihood and prior\n",
    "unstd.posterior <- likelihood * prior\n",
    "plot(p_grid, unstd.posterior, type=\"b\", xlab=\"probability of water\", ylab=\"unstandardized posterior\")"
   ]
  },
  {
   "cell_type": "code",
   "execution_count": null,
   "id": "21420972",
   "metadata": {},
   "outputs": [],
   "source": [
    "# standardize the posterior, so it sums to 1\n",
    "posterior <- unstd.posterior / sum(unstd.posterior)\n",
    "plot(p_grid, posterior, type=\"b\", xlab=\"probability of water\", ylab=\"posterior probability\")\n",
    "mtext( \"20 points\" )"
   ]
  },
  {
   "cell_type": "code",
   "execution_count": null,
   "id": "5736842e",
   "metadata": {},
   "outputs": [],
   "source": [
    "prior <- ifelse( p_grid < 0.5 , 0 , 1 )\n",
    "plot(p_grid, prior, type=\"b\", xlab=\"probability of water\", ylab=\"posterior probability\")"
   ]
  },
  {
   "cell_type": "code",
   "execution_count": null,
   "id": "62fb862a",
   "metadata": {},
   "outputs": [],
   "source": [
    "prior <- exp( -5*abs( p_grid - 0.5 ) )\n",
    "plot(p_grid, prior, type=\"b\", xlab=\"probability of water\", ylab=\"posterior probability\")"
   ]
  },
  {
   "cell_type": "markdown",
   "id": "776c4f81",
   "metadata": {},
   "source": [
    "# 2.4.4 Quadratic Approximation"
   ]
  },
  {
   "cell_type": "code",
   "execution_count": null,
   "id": "28108196",
   "metadata": {},
   "outputs": [],
   "source": [
    "library(rethinking)\n",
    "?rethinking"
   ]
  },
  {
   "cell_type": "code",
   "execution_count": null,
   "id": "f6d9971b",
   "metadata": {},
   "outputs": [],
   "source": [
    "globe.qa <- quap(\n",
    "    alist(\n",
    "        W ~ dbinom(W+L, p), # binomial likelihood\n",
    "        p ~ dunif(0, 1)     # uniform prior\n",
    "    ),\n",
    "    data=list(W=6,L=3) )\n",
    "precis(globe.qa)"
   ]
  },
  {
   "cell_type": "code",
   "execution_count": null,
   "id": "509c8a50",
   "metadata": {},
   "outputs": [],
   "source": [
    "# analytical calculation\n",
    "W <- 6\n",
    "L <- 3\n",
    "curve( dbeta( x , W+1 , L+1 ) , from=0 , to=1 )\n",
    "# quadratic approximation\n",
    "curve( dnorm( x , 0.67 , 0.16 ) , lty=2 , add=TRUE )"
   ]
  },
  {
   "cell_type": "markdown",
   "id": "860f9421",
   "metadata": {},
   "source": [
    "# 2.4.5 Markov chain Monte Carlo"
   ]
  },
  {
   "cell_type": "code",
   "execution_count": null,
   "id": "7ed1affc",
   "metadata": {},
   "outputs": [],
   "source": [
    "n_samples <- 1000\n",
    "p <- rep(NA, n_samples)\n",
    "p[1] <- 0.5\n",
    "W <- 6\n",
    "L <- 3\n",
    "for (i in 2:n_samples) {\n",
    "    p_new <- rnorm( 1 , p[i-1] , 0.1 )\n",
    "    if ( p_new < 0 ) p_new <- abs( p_new )\n",
    "    if ( p_new > 1 ) p_new <- 2 - p_new\n",
    "    q0 <- dbinom( W , W+L , p[i-1] )\n",
    "    q1 <- dbinom( W , W+L , p_new )\n",
    "    p[i] <- ifelse( runif(1) < q1/q0 , p_new , p[i-1] )\n",
    "}\n",
    "dens( p , xlim=c(0,1) )\n",
    "curve( dbeta( x , W+1 , L+1 ) , lty=2 , add=TRUE )"
   ]
  }
 ],
 "metadata": {
  "kernelspec": {
   "display_name": "R",
   "language": "R",
   "name": "ir"
  },
  "language_info": {
   "codemirror_mode": "r",
   "file_extension": ".r",
   "mimetype": "text/x-r-source",
   "name": "R",
   "pygments_lexer": "r",
   "version": "4.1.0"
  }
 },
 "nbformat": 4,
 "nbformat_minor": 5
}
