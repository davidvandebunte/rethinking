{
 "cells": [
  {
   "cell_type": "markdown",
   "id": "ab39bb0c",
   "metadata": {},
   "source": [
    "# Easy"
   ]
  },
  {
   "cell_type": "markdown",
   "id": "40053e9d",
   "metadata": {},
   "source": [
    "**2E1.** Which of the expressions below correspond to the statement: the probability of rain on Monday?\n",
    "1. Pr(rain)\n",
    "2. Pr(rain|Monday)\n",
    "3. Pr(Monday|rain)\n",
    "4. Pr(rain, Monday)/ Pr(Monday)"
   ]
  },
  {
   "cell_type": "markdown",
   "id": "fb2a86e7",
   "metadata": {},
   "source": [
    "**Solution**\n",
    "\n",
    "`Pr(rain|Monday)` (option 2) is the obvious answer.\n",
    "\n",
    "`Pr(rain,Monday)/ Pr(Monday)` (option 4) is equal `Pr(rain|Monday)Pr(Monday)/ Pr(Monday)` which is also equal `Pr(rain|Monday)`.\n",
    "\n",
    "Note that `Pr(rain, Monday)/ Pr(Monday)` is equal to `Pr(rain)` iff `rain` and `Monday` are independent events."
   ]
  },
  {
   "cell_type": "markdown",
   "id": "b36729f5",
   "metadata": {},
   "source": [
    "**2E2.** Which of the following statements corresponds to the expression: Pr(Monday|rain)?\n",
    "1. The probability of rain on Monday.\n",
    "2. The probability of rain, given that it is Monday.\n",
    "3. The probability that it is Monday, given that it is raining.\n",
    "4. The probability that it is Monday and that it is raining."
   ]
  },
  {
   "cell_type": "markdown",
   "id": "3596ba12",
   "metadata": {},
   "source": [
    "**Solution**\n",
    "\n",
    "The probability that it is Monday, given that it is raining."
   ]
  },
  {
   "cell_type": "markdown",
   "id": "2815d413",
   "metadata": {},
   "source": [
    "**2E3.** Which of the expressions below correspond to the statement: the probability that it is Monday, given that it is raining?\n",
    "1. Pr(Monday|rain)\n",
    "2. Pr(rain|Monday)\n",
    "3. Pr(rain|Monday) Pr(Monday)\n",
    "4. Pr(rain|Monday) Pr(Monday)/ Pr(rain)\n",
    "5. Pr(Monday|rain) Pr(rain)/ Pr(Monday)"
   ]
  },
  {
   "cell_type": "markdown",
   "id": "a9eb2152",
   "metadata": {},
   "source": [
    "**Solution**\n",
    "\n",
    "`Pr(Monday|rain)` (option 1) is obvious, given the answer to the previous question.\n",
    "\n",
    "`Pr(rain|Monday) Pr(Monday)` = `Pr(rain, Monday)`\n",
    "\n",
    "`Pr(rain|Monday) Pr(Monday)/ Pr(rain)` = `Pr(rain, Monday)/ Pr(rain)` = `Pr(Monday|rain)` (option 4)\n",
    "\n",
    "`Pr(Monday|rain) Pr(rain)/ Pr(Monday)` = `Pr(Monday, rain)/ Pr(Monday)` = `Pr(rain|Monday)`"
   ]
  },
  {
   "cell_type": "markdown",
   "id": "befa2205",
   "metadata": {},
   "source": [
    "**2E4.** The Bayesian statistician Bruno de Finetti (1906–1985) began his book on probability theory\n",
    "with the declaration: “PROBABILITY DOES NOT EXIST.” The capitals appeared in the original, so\n",
    "I imagine de Finetti wanted us to shout this statement. What he meant is that probability is a device\n",
    "for describing uncertainty from the perspective of an observer with limited knowledge; it has no\n",
    "objective reality. Discuss the globe tossing example from the chapter, in light of this statement. What\n",
    "does it mean to say “the probability of water is 0.7”?"
   ]
  },
  {
   "cell_type": "markdown",
   "id": "2b88f6c3",
   "metadata": {},
   "source": [
    "The probability of water is 0.7 only if you don't know where the finger is going to land on the ball. If you knew exactly how the ball was thrown, you could potentially predict whether the thrower's finger would land on water or land based on the laws of physics. See also:\n",
    "- https://en.wikipedia.org/wiki/Randomness\n",
    "- https://en.wikipedia.org/wiki/Probability#Relation_to_randomness_and_probability_in_quantum_mechanics\n",
    "\n",
    "Similarly, if you knew what the result of the throw is then it is no longer random. At this point, there is no longer any uncertainty."
   ]
  },
  {
   "cell_type": "markdown",
   "id": "510542da",
   "metadata": {},
   "source": [
    "# Medium"
   ]
  },
  {
   "cell_type": "code",
   "execution_count": null,
   "id": "5ea2a986",
   "metadata": {},
   "outputs": [],
   "source": [
    "source(\"Medium2.R\")"
   ]
  },
  {
   "cell_type": "markdown",
   "id": "7762bf95",
   "metadata": {},
   "source": [
    "# Hard"
   ]
  },
  {
   "cell_type": "code",
   "execution_count": null,
   "id": "c2847f06",
   "metadata": {},
   "outputs": [],
   "source": [
    "source(\"Hard2.R\")"
   ]
  }
 ],
 "metadata": {
  "kernelspec": {
   "display_name": "R",
   "language": "R",
   "name": "ir"
  },
  "language_info": {
   "codemirror_mode": "r",
   "file_extension": ".r",
   "mimetype": "text/x-r-source",
   "name": "R",
   "pygments_lexer": "r",
   "version": "4.1.0"
  }
 },
 "nbformat": 4,
 "nbformat_minor": 5
}
