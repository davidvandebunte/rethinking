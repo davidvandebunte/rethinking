{
 "cells": [
  {
   "cell_type": "markdown",
   "id": "c5cfb886",
   "metadata": {},
   "source": [
    "# Resources\n",
    "- https://xcelab.net/rm/statistical-rethinking/\n",
    "- https://github.com/rmcelreath/rethinking\n",
    "- https://duckduckgo.com/bang?q=R+documentation"
   ]
  },
  {
   "cell_type": "markdown",
   "id": "340111bb",
   "metadata": {},
   "source": [
    "# Preface"
   ]
  },
  {
   "cell_type": "code",
   "execution_count": null,
   "id": "b109c664",
   "metadata": {
    "tags": []
   },
   "outputs": [],
   "source": [
    "data(cars)\n",
    "cars"
   ]
  },
  {
   "cell_type": "code",
   "execution_count": null,
   "id": "79e3d325",
   "metadata": {
    "tags": []
   },
   "outputs": [],
   "source": [
    "# fit a linear regression of distance on speed\n",
    "m <- lm(dist ~ speed, data=cars)\n",
    "m"
   ]
  },
  {
   "cell_type": "code",
   "execution_count": null,
   "id": "1b6693df",
   "metadata": {
    "tags": []
   },
   "outputs": [],
   "source": [
    "# estimated coefficients from the model\n",
    "coef(m)"
   ]
  },
  {
   "cell_type": "code",
   "execution_count": null,
   "id": "2fa6be02",
   "metadata": {},
   "outputs": [],
   "source": [
    "# plot residuals against speed\n",
    "plot(resid(m) ~ speed, data=cars)"
   ]
  }
 ],
 "metadata": {
  "kernelspec": {
   "display_name": "R",
   "language": "R",
   "name": "ir"
  },
  "language_info": {
   "codemirror_mode": "r",
   "file_extension": ".r",
   "mimetype": "text/x-r-source",
   "name": "R",
   "pygments_lexer": "r",
   "version": "4.1.0"
  }
 },
 "nbformat": 4,
 "nbformat_minor": 5
}
