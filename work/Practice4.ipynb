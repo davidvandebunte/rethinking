{
 "cells": [
  {
   "cell_type": "markdown",
   "id": "55fca37c",
   "metadata": {},
   "source": [
    "# Easy.\n",
    "**4E1.** In the model definition below, which line is the likelihood?\n",
    "\n",
    "$$y_i ∼ Normal(µ, σ)$$\n",
    "$$µ ∼ Normal(0, 10)$$\n",
    "$$σ ∼ Exponential(1)$$\n",
    "\n",
    "The first line.\n",
    "\n",
    "**4E2.** In the model definition just above, how many parameters are in the posterior distribution?\n",
    "\n",
    "Two (μ and σ).\n",
    "\n",
    "**4E3.** Using the model definition above, write down the appropriate form of Bayes’ theorem that\n",
    "includes the proper likelihood and priors.\n",
    "\n",
    "$$\n",
    "Pr(μ, σ|y_i) = \\frac{\\prod_i Normal(y_i|μ, σ)Normal(0, 10)Exponential(1)}{\\iint \\prod_i Normal(y_i|μ, σ)Normal(0, 10)Exponential(1)dμdσ}\n",
    "$$\n",
    "\n",
    "**4E4.** In the model definition below, which line is the linear model?\n",
    "$$y_i ∼ Normal(µ, σ)$$\n",
    "$$µ_i = α + βx_i$$\n",
    "$$α ∼ Normal(0, 10)$$\n",
    "$$β ∼ Normal(0, 1)$$\n",
    "$$σ ∼ Exponential(2)$$\n",
    "\n",
    "The second line.\n",
    "\n",
    "TODO: Missing an index on μ.\n",
    "\n",
    "**4E5.** In the model definition just above, how many parameters are in the posterior distribution?\n",
    "\n",
    "Three (α, β, σ)"
   ]
  },
  {
   "cell_type": "code",
   "execution_count": null,
   "id": "0cb97cb5",
   "metadata": {},
   "outputs": [],
   "source": [
    "source(\"Medium4.R\")"
   ]
  },
  {
   "cell_type": "code",
   "execution_count": null,
   "id": "992dd977",
   "metadata": {},
   "outputs": [],
   "source": [
    "source(\"Hard4.R\")"
   ]
  }
 ],
 "metadata": {
  "kernelspec": {
   "display_name": "R",
   "language": "R",
   "name": "ir"
  },
  "language_info": {
   "codemirror_mode": "r",
   "file_extension": ".r",
   "mimetype": "text/x-r-source",
   "name": "R",
   "pygments_lexer": "r",
   "version": "4.1.0"
  }
 },
 "nbformat": 4,
 "nbformat_minor": 5
}
